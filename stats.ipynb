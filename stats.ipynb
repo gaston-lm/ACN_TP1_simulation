{
 "cells": [
  {
   "cell_type": "code",
   "execution_count": 1,
   "metadata": {},
   "outputs": [],
   "source": [
    "import numpy as np"
   ]
  },
  {
   "cell_type": "code",
   "execution_count": 2,
   "metadata": {},
   "outputs": [],
   "source": [
    "choques = np.load(\"npys/l=0005ySca=4\\choques_3.npy\")\n",
    "choques_radar = np.load(\"npys/l=0005ySca=4\\choques_radar_3.npy\")"
   ]
  },
  {
   "cell_type": "code",
   "execution_count": 3,
   "metadata": {},
   "outputs": [],
   "source": [
    "def divide_set(matrix):\n",
    "    densidad_9 = matrix[:, matrix[0] < 4400]\n",
    "    densidad_5 = matrix[:, (4400 <= matrix[0]) & (matrix[0] < 8000)]\n",
    "    densidad_0 = matrix[:, (8000 <= matrix[0]) & (matrix[0] < 11600)]\n",
    "    densidad_2 = matrix[:, (11600 <= matrix[0]) & (matrix[0] < 15200)]\n",
    "    densidad_4 = matrix[:, (15200 <= matrix[0]) & (matrix[0] < 18800)]\n",
    "\n",
    "    densidad_5 = np.hstack((densidad_5, matrix[:, matrix[0] >= 18800]))\n",
    "\n",
    "    return densidad_0, densidad_2, densidad_4, densidad_5, densidad_9"
   ]
  },
  {
   "cell_type": "code",
   "execution_count": 4,
   "metadata": {},
   "outputs": [],
   "source": [
    "def calculate_avg_travel_time(matrix):\n",
    "    time_in = matrix[0,:]\n",
    "    time_out = matrix[1,:]\n",
    "    return np.mean(time_out - time_in)"
   ]
  },
  {
   "cell_type": "code",
   "execution_count": 5,
   "metadata": {},
   "outputs": [],
   "source": [
    "def calculate_results(simulaciones):\n",
    "    vr = [[],[],[],[],[]]\n",
    "    for i in range(len(simulaciones)):\n",
    "        d0,d2,d4,d5,d9 = divide_set(simulaciones[i]) \n",
    "        vr[0].append(calculate_avg_travel_time(d0))\n",
    "        vr[1].append(calculate_avg_travel_time(d2))\n",
    "        vr[2].append(calculate_avg_travel_time(d4))\n",
    "        vr[3].append(calculate_avg_travel_time(d5))\n",
    "        vr[4].append(calculate_avg_travel_time(d9))\n",
    "    \n",
    "    return vr\n"
   ]
  },
  {
   "cell_type": "code",
   "execution_count": 8,
   "metadata": {},
   "outputs": [],
   "source": [
    "sim0 = np.load(\"npys/l=001ySca=3/results0.npy\")\n",
    "sim1 = np.load(\"npys/l=001ySca=3/results1.npy\")\n",
    "sim2 = np.load(\"npys/l=001ySca=3/results2.npy\")\n",
    "sim3 = np.load(\"npys/l=001ySca=3/results3.npy\")\n",
    "sim4 = np.load(\"npys/l=001ySca=3/results4.npy\")\n",
    "\n",
    "lista = calculate_results([sim0, sim1, sim2, sim3, sim4])"
   ]
  }
 ],
 "metadata": {
  "kernelspec": {
   "display_name": "base",
   "language": "python",
   "name": "python3"
  },
  "language_info": {
   "codemirror_mode": {
    "name": "ipython",
    "version": 3
   },
   "file_extension": ".py",
   "mimetype": "text/x-python",
   "name": "python",
   "nbconvert_exporter": "python",
   "pygments_lexer": "ipython3",
   "version": "3.10.12"
  },
  "orig_nbformat": 4
 },
 "nbformat": 4,
 "nbformat_minor": 2
}
