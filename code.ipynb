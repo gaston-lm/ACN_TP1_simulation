{
 "cells": [
  {
   "cell_type": "markdown",
   "metadata": {},
   "source": [
    "## TP1\n",
    "### Simulación de tráfico Av. Gral. Paz"
   ]
  },
  {
   "cell_type": "markdown",
   "metadata": {},
   "source": [
    "Puntos en el mapa:\n",
    "- Liniers: inicio del recorrido ([Ver en Google Maps](https://www.google.com.ar/maps/place/34%C2%B039'17.7%22S+58%C2%B031'38.4%22W/@-34.6549785,-58.5277805,17.81z/data=!4m4!3m3!8m2!3d-34.65491!4d-58.527343?entry=ttu))\n",
    "- Acceso norte: cambio máxima de velocidad ([Ver en Google Maps](https://www.google.com.ar/maps/place/34%C2%B032'47.9%22S+58%C2%B029'34.2%22W/@-34.5463826,-58.4928312,20.08z/data=!4m4!3m3!8m2!3d-34.546634!4d-58.492842?entry=ttu))\n",
    "- Lugones: fin del recorrido ([Ver en Google Maps](https://www.google.com.ar/maps/place/34%C2%B032'08.7%22S+58%C2%B028'05.8%22W/@-34.5357379,-58.4689167,19z/data=!3m1!4b1!4m4!3m3!8m2!3d-34.535739!4d-58.468273?entry=ttu))\n",
    "- Distancia total 15.500 metros\n",
    "- Distancia entre Liniers y Acceso Norte 13.000 metros\n",
    "- Viaje en Google Maps [aquí](https://www.google.com.ar/maps/dir/-34.6549026,-58.5273448/RN+A001,+Buenos+Aires/@-34.6442246,-58.5493925,13.21z/data=!4m9!4m8!1m0!1m5!1m1!1s0x95bcb6a69ad1fc61:0x7f1d6a8008451498!2m2!1d-58.4682776!2d-34.5357282!3e0?entry=ttu)"
   ]
  },
  {
   "cell_type": "code",
   "execution_count": null,
   "metadata": {},
   "outputs": [],
   "source": [
    "from road import *\n",
    "# time_limit, max_acceleration=0.73, braking_desacceleration=1.67, delta=4, minimum_spacing=2, car_length=5, alert_app_prop\n",
    "# simulation = RoadSimulation(2000, 2.0, 4.0, 4, 4, 4.3, 0.4)"
   ]
  },
  {
   "cell_type": "code",
   "execution_count": null,
   "metadata": {},
   "outputs": [],
   "source": [
    "first_id = []\n",
    "\n",
    "for i in range(5):\n",
    "    globals()[f'sim_{i}'] = RoadSimulation(20000, 2.0, 4.0, 4, 4, 4.3, 0.4)\n",
    "    print(f\"SIMULACIÓN {i}\")\n",
    "    globals()[f'sim_{i}'].simulate()\n",
    "    globals()[f'sim_{i}'].generate_results()\n",
    "\n",
    "    first_id.append(globals()[f'sim_{i}'].id_first_agent_to_consider)\n",
    "    np.save(f\"pos{i}.npy\", globals()[f'sim_{i}'].pos)\n",
    "    np.save(f\"results{i}.npy\", globals()[f'sim_{i}'].results)"
   ]
  },
  {
   "cell_type": "code",
   "execution_count": null,
   "metadata": {},
   "outputs": [],
   "source": [
    "# simulation.simulate()"
   ]
  },
  {
   "cell_type": "code",
   "execution_count": null,
   "metadata": {},
   "outputs": [],
   "source": [
    "# acc_sim = simulation.acc\n",
    "# spd_sim = simulation.spd\n",
    "# pos_sim = simulation.pos"
   ]
  },
  {
   "cell_type": "code",
   "execution_count": null,
   "metadata": {},
   "outputs": [],
   "source": [
    "# print(f\"ID del agente a partir del cuál considerar: {simulation.id_first_agent_to_consider}\\nSegundo desde el cuál se empieza a considerar: {simulation.time_in[0]}\")"
   ]
  },
  {
   "cell_type": "code",
   "execution_count": null,
   "metadata": {},
   "outputs": [],
   "source": [
    "# simulation.generate_results()\n",
    "# print(f\" Tiempo promedio: {simulation.get_avg_travel_time()}\\n Aceleración promedio: {simulation.get_avg_travel_acce()} \\n Velocidad promedio: {simulation.get_avg_travel_speed()} \\n Cantidad de Choques: {simulation.get_collisions()}\")"
   ]
  },
  {
   "cell_type": "code",
   "execution_count": null,
   "metadata": {},
   "outputs": [],
   "source": [
    "# np.save(\"pos.npy\", simulation.pos)\n",
    "# np.save(\"results.npy\", simulation.results)"
   ]
  }
 ],
 "metadata": {
  "kernelspec": {
   "display_name": "td6",
   "language": "python",
   "name": "python3"
  },
  "language_info": {
   "codemirror_mode": {
    "name": "ipython",
    "version": 3
   },
   "file_extension": ".py",
   "mimetype": "text/x-python",
   "name": "python",
   "nbconvert_exporter": "python",
   "pygments_lexer": "ipython3",
   "version": "3.10.12"
  },
  "orig_nbformat": 4
 },
 "nbformat": 4,
 "nbformat_minor": 2
}
