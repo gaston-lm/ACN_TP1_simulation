{
 "cells": [
  {
   "cell_type": "markdown",
   "metadata": {},
   "source": [
    "## TP1\n",
    "### Simulación de tráfico Av. Gral. Paz"
   ]
  },
  {
   "cell_type": "markdown",
   "metadata": {},
   "source": [
    "Puntos en el mapa:\n",
    "- Liniers: inicio del recorrido ([Ver en Google Maps](https://www.google.com.ar/maps/place/34%C2%B039'17.7%22S+58%C2%B031'38.4%22W/@-34.6549785,-58.5277805,17.81z/data=!4m4!3m3!8m2!3d-34.65491!4d-58.527343?entry=ttu))\n",
    "- Acceso norte: cambio máxima de velocidad ([Ver en Google Maps](https://www.google.com.ar/maps/place/34%C2%B032'47.9%22S+58%C2%B029'34.2%22W/@-34.5463826,-58.4928312,20.08z/data=!4m4!3m3!8m2!3d-34.546634!4d-58.492842?entry=ttu))\n",
    "- Lugones: fin del recorrido ([Ver en Google Maps](https://www.google.com.ar/maps/place/34%C2%B032'08.7%22S+58%C2%B028'05.8%22W/@-34.5357379,-58.4689167,19z/data=!3m1!4b1!4m4!3m3!8m2!3d-34.535739!4d-58.468273?entry=ttu))\n",
    "- Distancia total 15.500 metros\n",
    "- Distancia entre Liniers y Acceso Norte 13.000 metros\n",
    "- Viaje en Google Maps [aquí](https://www.google.com.ar/maps/dir/-34.6549026,-58.5273448/RN+A001,+Buenos+Aires/@-34.6442246,-58.5493925,13.21z/data=!4m9!4m8!1m0!1m5!1m1!1s0x95bcb6a69ad1fc61:0x7f1d6a8008451498!2m2!1d-58.4682776!2d-34.5357282!3e0?entry=ttu)"
   ]
  },
  {
   "cell_type": "code",
   "execution_count": 1,
   "metadata": {},
   "outputs": [],
   "source": [
    "from road import *\n",
    "# time_limit=1400, max_acceleration=0.73, braking_desacceleration=1.67, delta=4, minimum_spacing=2, car_length=5\n",
    "simulation = RoadSimulation(2000, 2.0, 4.0, 4, 2, 4.3)"
   ]
  },
  {
   "cell_type": "code",
   "execution_count": 2,
   "metadata": {},
   "outputs": [
    {
     "name": "stdout",
     "output_type": "stream",
     "text": [
      "El primero llego en t=780\n",
      "Cantidad de autos ahi: 291\n",
      "291 1643\n",
      "292 1645\n",
      "293 1648\n",
      "294 1650\n",
      "295 1652\n",
      "296 1654\n",
      "297 1656\n",
      "298 1659\n",
      "299 1662\n",
      "300 1664\n",
      "301 1668\n",
      "302 1670\n",
      "303 1672\n",
      "304 1675\n",
      "305 1677\n",
      "306 1679\n",
      "307 1682\n",
      "308 1684\n",
      "309 1686\n",
      "310 1689\n",
      "311 1691\n",
      "312 1695\n",
      "313 1696\n",
      "314 1699\n",
      "315 1700\n",
      "316 1704\n",
      "317 1706\n",
      "318 1709\n",
      "319 1712\n",
      "320 1713\n",
      "321 1716\n",
      "322 1718\n",
      "323 1722\n",
      "324 1724\n",
      "325 1726\n",
      "326 1729\n",
      "327 1732\n",
      "328 1735\n",
      "329 1736\n",
      "330 1739\n",
      "331 1741\n",
      "332 1743\n",
      "333 1745\n",
      "334 1747\n",
      "335 1749\n",
      "336 1751\n",
      "337 1754\n",
      "338 1756\n",
      "339 1759\n",
      "340 1760\n",
      "341 1763\n",
      "342 1765\n",
      "343 1767\n",
      "344 1768\n",
      "345 1771\n",
      "346 1774\n",
      "347 1776\n",
      "348 1778\n",
      "349 1782\n",
      "350 1783\n",
      "351 1786\n",
      "352 1789\n",
      "353 1791\n",
      "354 1794\n",
      "355 1797\n",
      "356 1800\n",
      "357 1802\n",
      "358 1804\n",
      "359 1806\n",
      "360 1809\n",
      "361 1812\n",
      "362 1879\n",
      "363 1882\n",
      "364 1886\n",
      "365 1889\n",
      "366 1891\n",
      "367 1894\n",
      "368 1896\n",
      "369 1899\n",
      "370 1902\n",
      "371 1904\n",
      "372 1906\n",
      "373 1907\n",
      "374 1910\n",
      "375 1913\n",
      "376 1915\n",
      "377 1917\n",
      "378 1919\n",
      "379 1921\n",
      "380 1923\n",
      "381 1925\n",
      "382 1929\n",
      "383 1931\n",
      "384 1933\n",
      "385 1935\n",
      "386 1937\n",
      "387 1939\n",
      "388 1941\n",
      "389 1943\n",
      "390 1945\n",
      "391 1947\n",
      "392 1949\n",
      "393 1952\n",
      "394 1954\n",
      "395 1957\n",
      "396 1959\n",
      "397 1962\n",
      "398 1964\n",
      "399 1966\n",
      "400 1968\n",
      "401 1970\n",
      "402 1972\n",
      "403 1974\n",
      "404 1977\n",
      "405 1979\n",
      "406 1982\n",
      "407 1984\n",
      "408 1986\n",
      "409 1989\n",
      "410 1991\n",
      "411 1993\n",
      "412 1995\n",
      "413 1996\n",
      "414 1998\n"
     ]
    }
   ],
   "source": [
    "simulation.simulate()"
   ]
  },
  {
   "cell_type": "code",
   "execution_count": 3,
   "metadata": {},
   "outputs": [],
   "source": [
    "acc_sim = simulation.acc\n",
    "spd_sim = simulation.spd\n",
    "pos_sim = simulation.pos"
   ]
  },
  {
   "cell_type": "code",
   "execution_count": 4,
   "metadata": {},
   "outputs": [
    {
     "name": "stdout",
     "output_type": "stream",
     "text": [
      "ID del agente a partir del cuál considerar: 291\n",
      "Segundo desde el cuál se empieza a considerar: 780\n"
     ]
    }
   ],
   "source": [
    "print(f\"ID del agente a partir del cuál considerar: {simulation.id_first_agent_to_consider}\\nSegundo desde el cuál se empieza a considerar: {simulation.time_in[0]}\")"
   ]
  },
  {
   "cell_type": "code",
   "execution_count": 5,
   "metadata": {},
   "outputs": [
    {
     "name": "stdout",
     "output_type": "stream",
     "text": [
      " Tiempo promedio: 871.7258064516129\n",
      " Aceleración promedio: 0.018379212854162174 \n",
      " Velocidad promedio: 17.802830243494693 \n",
      " Cantidad de Choques: 0\n"
     ]
    }
   ],
   "source": [
    "simulation.generete_results()\n",
    "print(f\" Tiempo promedio: {simulation.get_avg_travel_time()}\\n Aceleración promedio: {simulation.get_avg_travel_acce()} \\n Velocidad promedio: {simulation.get_avg_travel_speed()} \\n Cantidad de Choques: {simulation.get_collisions()}\")"
   ]
  },
  {
   "cell_type": "code",
   "execution_count": 6,
   "metadata": {},
   "outputs": [],
   "source": [
    "# recorte = simulation.pos[:,758:6000]"
   ]
  },
  {
   "cell_type": "code",
   "execution_count": 7,
   "metadata": {},
   "outputs": [],
   "source": [
    "# np.save(\"test.npy\", recorte)"
   ]
  }
 ],
 "metadata": {
  "kernelspec": {
   "display_name": "td6",
   "language": "python",
   "name": "python3"
  },
  "language_info": {
   "codemirror_mode": {
    "name": "ipython",
    "version": 3
   },
   "file_extension": ".py",
   "mimetype": "text/x-python",
   "name": "python",
   "nbconvert_exporter": "python",
   "pygments_lexer": "ipython3",
   "version": "3.8.8"
  },
  "orig_nbformat": 4
 },
 "nbformat": 4,
 "nbformat_minor": 2
}
