{
 "cells": [
  {
   "cell_type": "markdown",
   "metadata": {},
   "source": [
    "## TP1\n",
    "### Simulación de tráfico Av. Gral. Paz"
   ]
  },
  {
   "cell_type": "code",
   "execution_count": 12,
   "metadata": {},
   "outputs": [],
   "source": [
    "from lane import *"
   ]
  },
  {
   "cell_type": "code",
   "execution_count": 13,
   "metadata": {},
   "outputs": [
    {
     "name": "stdout",
     "output_type": "stream",
     "text": [
      "Choque de 5 con 4 en t=11\n",
      "Choque de 5 con 4 en t=12\n",
      "Choque de 5 con 4 en t=13\n",
      "Choque de 5 con 4 en t=14\n",
      "Choque de 6 con 5 en t=16\n",
      "Choque de 10 con 9 en t=16\n",
      "Choque de 6 con 5 en t=17\n",
      "Choque de 7 con 6 en t=17\n",
      "Choque de 10 con 9 en t=17\n",
      "Choque de 11 con 10 en t=17\n",
      "Choque de 7 con 6 en t=18\n",
      "Choque de 10 con 9 en t=18\n",
      "Choque de 11 con 10 en t=18\n",
      "Choque de 7 con 6 en t=19\n",
      "Choque de 10 con 9 en t=19\n",
      "Choque de 11 con 10 en t=19\n",
      "Choque de 7 con 6 en t=20\n",
      "Choque de 10 con 9 en t=20\n",
      "Choque de 11 con 10 en t=20\n",
      "Choque de 12 con 11 en t=20\n",
      "Choque de 6 con 5 en t=21\n",
      "Choque de 7 con 6 en t=21\n",
      "Choque de 10 con 9 en t=21\n",
      "Choque de 11 con 10 en t=21\n",
      "Choque de 7 con 6 en t=22\n",
      "Choque de 10 con 9 en t=22\n",
      "Choque de 11 con 10 en t=22\n",
      "Choque de 16 con 15 en t=22\n",
      "Choque de 7 con 6 en t=23\n",
      "Choque de 10 con 9 en t=23\n",
      "Choque de 11 con 10 en t=23\n",
      "Choque de 13 con 12 en t=23\n",
      "Choque de 16 con 15 en t=23\n",
      "Choque de 7 con 6 en t=24\n",
      "Choque de 10 con 9 en t=24\n",
      "Choque de 11 con 10 en t=24\n",
      "Choque de 13 con 12 en t=24\n",
      "Choque de 16 con 15 en t=24\n",
      "Choque de 17 con 16 en t=24\n",
      "Choque de 7 con 6 en t=25\n",
      "Choque de 10 con 9 en t=25\n",
      "Choque de 11 con 10 en t=25\n",
      "Choque de 13 con 12 en t=25\n",
      "Choque de 16 con 15 en t=25\n",
      "Choque de 17 con 16 en t=25\n",
      "Choque de 7 con 6 en t=26\n",
      "Choque de 10 con 9 en t=26\n",
      "Choque de 11 con 10 en t=26\n",
      "Choque de 16 con 15 en t=26\n",
      "Choque de 17 con 16 en t=26\n",
      "Choque de 7 con 6 en t=27\n",
      "Choque de 10 con 9 en t=27\n",
      "Choque de 11 con 10 en t=27\n",
      "Choque de 16 con 15 en t=27\n",
      "Choque de 7 con 6 en t=28\n",
      "Choque de 10 con 9 en t=28\n",
      "Choque de 11 con 10 en t=28\n",
      "Choque de 14 con 13 en t=28\n",
      "Choque de 16 con 15 en t=28\n",
      "Choque de 22 con 21 en t=28\n",
      "Choque de 7 con 6 en t=29\n",
      "Choque de 10 con 9 en t=29\n",
      "Choque de 11 con 10 en t=29\n",
      "Choque de 14 con 13 en t=29\n",
      "Choque de 16 con 15 en t=29\n",
      "Choque de 22 con 21 en t=29\n"
     ]
    }
   ],
   "source": [
    "test_simulation = Lane_simulation(30, 30, 13, 1, 1)\n",
    "test_simulation.simulation()"
   ]
  },
  {
   "cell_type": "code",
   "execution_count": 14,
   "metadata": {},
   "outputs": [],
   "source": [
    "test_simulation.acc\n",
    "spd = test_simulation.spd\n",
    "pos = test_simulation.pos"
   ]
  },
  {
   "cell_type": "code",
   "execution_count": 45,
   "metadata": {},
   "outputs": [
    {
     "data": {
      "text/plain": [
       "array([[-9,  0,  6],\n",
       "       [ 3, -1,  3],\n",
       "       [ 4, -9,  2]])"
      ]
     },
     "execution_count": 45,
     "metadata": {},
     "output_type": "execute_result"
    }
   ],
   "source": [
    "import numpy as np\n",
    "np.random.seed(474)\n",
    "test = np.random.randint(low=-9, high=10, size=(3,3))\n",
    "test"
   ]
  },
  {
   "cell_type": "code",
   "execution_count": 24,
   "metadata": {},
   "outputs": [],
   "source": [
    "# test[1,1] = 6"
   ]
  },
  {
   "cell_type": "code",
   "execution_count": 48,
   "metadata": {},
   "outputs": [
    {
     "data": {
      "text/plain": [
       "array([[-9,  0,  6],\n",
       "       [ 3,  1,  3],\n",
       "       [ 4,  1,  2]])"
      ]
     },
     "execution_count": 48,
     "metadata": {},
     "output_type": "execute_result"
    }
   ],
   "source": [
    "i = 1\n",
    "while i < len(test[:,1]):\n",
    "    test[i,1] = 1\n",
    "    i += 1\n",
    "\n",
    "test"
   ]
  }
 ],
 "metadata": {
  "kernelspec": {
   "display_name": "td6",
   "language": "python",
   "name": "python3"
  },
  "language_info": {
   "codemirror_mode": {
    "name": "ipython",
    "version": 3
   },
   "file_extension": ".py",
   "mimetype": "text/x-python",
   "name": "python",
   "nbconvert_exporter": "python",
   "pygments_lexer": "ipython3",
   "version": "3.8.17"
  },
  "orig_nbformat": 4
 },
 "nbformat": 4,
 "nbformat_minor": 2
}
