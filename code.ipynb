{
 "cells": [
  {
   "cell_type": "markdown",
   "metadata": {},
   "source": [
    "## TP1\n",
    "### Simulación de tráfico Av. Gral. Paz"
   ]
  },
  {
   "cell_type": "code",
   "execution_count": 1,
   "metadata": {},
   "outputs": [],
   "source": [
    "from lane import *"
   ]
  },
  {
   "cell_type": "code",
   "execution_count": 2,
   "metadata": {},
   "outputs": [],
   "source": [
    "test_simulation = Lane_simulation(900, 30, 13, 1, 1)\n",
    "test_simulation.simulation()"
   ]
  },
  {
   "cell_type": "code",
   "execution_count": 3,
   "metadata": {},
   "outputs": [],
   "source": [
    "acc = test_simulation.acc\n",
    "spd = test_simulation.spd\n",
    "pos = test_simulation.pos"
   ]
  },
  {
   "cell_type": "markdown",
   "metadata": {},
   "source": [
    "Puntos en el mapa:\n",
    "- Liniers: inicio del recorrido ([Ver en Google Maps](https://www.google.com.ar/maps/place/34%C2%B039'17.7%22S+58%C2%B031'38.4%22W/@-34.6549785,-58.5277805,17.81z/data=!4m4!3m3!8m2!3d-34.65491!4d-58.527343?entry=ttu))\n",
    "- Acceso norte: cambio máxima de velocidad ([Ver en Google Maps](https://www.google.com.ar/maps/place/34%C2%B032'47.9%22S+58%C2%B029'34.2%22W/@-34.5463826,-58.4928312,20.08z/data=!4m4!3m3!8m2!3d-34.546634!4d-58.492842?entry=ttu))\n",
    "- Lugones: fin del recorrido ([Ver en Google Maps](https://www.google.com.ar/maps/place/34%C2%B032'08.7%22S+58%C2%B028'05.8%22W/@-34.5357379,-58.4689167,19z/data=!3m1!4b1!4m4!3m3!8m2!3d-34.535739!4d-58.468273?entry=ttu))\n",
    "- Distancia total 15.500 metros\n",
    "- Distancia entre Liniers y Acceso Norte 13.000 metros"
   ]
  },
  {
   "cell_type": "code",
   "execution_count": 5,
   "metadata": {},
   "outputs": [
    {
     "data": {
      "text/plain": [
       "array([[-9,  0,  6],\n",
       "       [ 3, -1,  3],\n",
       "       [ 4, -9,  2]])"
      ]
     },
     "execution_count": 5,
     "metadata": {},
     "output_type": "execute_result"
    }
   ],
   "source": [
    "import numpy as np\n",
    "np.random.seed(474)\n",
    "test = np.random.randint(low=-9, high=10, size=(3,3))\n",
    "test"
   ]
  },
  {
   "cell_type": "code",
   "execution_count": 8,
   "metadata": {},
   "outputs": [],
   "source": [
    "new_row = np.zeros((1,test.shape[1]))"
   ]
  },
  {
   "cell_type": "code",
   "execution_count": 9,
   "metadata": {},
   "outputs": [
    {
     "data": {
      "text/plain": [
       "array([[-9.,  0.,  6.],\n",
       "       [ 3., -1.,  3.],\n",
       "       [ 4., -9.,  2.],\n",
       "       [ 0.,  0.,  0.]])"
      ]
     },
     "execution_count": 9,
     "metadata": {},
     "output_type": "execute_result"
    }
   ],
   "source": [
    "test = np.vstack((test, new_row))\n",
    "test"
   ]
  },
  {
   "cell_type": "code",
   "execution_count": 10,
   "metadata": {},
   "outputs": [
    {
     "data": {
      "text/plain": [
       "array([[-9.,  0.,  6.],\n",
       "       [ 3., -1.,  3.],\n",
       "       [ 4., -9.,  2.],\n",
       "       [ 3.,  0.,  0.]])"
      ]
     },
     "execution_count": 10,
     "metadata": {},
     "output_type": "execute_result"
    }
   ],
   "source": [
    "test[3,0] = 3\n",
    "test"
   ]
  },
  {
   "cell_type": "code",
   "execution_count": 11,
   "metadata": {},
   "outputs": [
    {
     "data": {
      "text/plain": [
       "array([[0., 0., 0.]])"
      ]
     },
     "execution_count": 11,
     "metadata": {},
     "output_type": "execute_result"
    }
   ],
   "source": [
    "new_row"
   ]
  },
  {
   "cell_type": "code",
   "execution_count": 48,
   "metadata": {},
   "outputs": [
    {
     "data": {
      "text/plain": [
       "array([[-9,  0,  6],\n",
       "       [ 3,  1,  3],\n",
       "       [ 4,  1,  2]])"
      ]
     },
     "execution_count": 48,
     "metadata": {},
     "output_type": "execute_result"
    }
   ],
   "source": [
    "i = 1\n",
    "while i < len(test[:,1]):\n",
    "    test[i,1] = 1\n",
    "    i += 1\n",
    "\n",
    "test"
   ]
  }
 ],
 "metadata": {
  "kernelspec": {
   "display_name": "td6",
   "language": "python",
   "name": "python3"
  },
  "language_info": {
   "codemirror_mode": {
    "name": "ipython",
    "version": 3
   },
   "file_extension": ".py",
   "mimetype": "text/x-python",
   "name": "python",
   "nbconvert_exporter": "python",
   "pygments_lexer": "ipython3",
   "version": "3.8.17"
  },
  "orig_nbformat": 4
 },
 "nbformat": 4,
 "nbformat_minor": 2
}
