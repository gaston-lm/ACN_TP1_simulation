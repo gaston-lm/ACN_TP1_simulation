{
 "cells": [
  {
   "cell_type": "markdown",
   "metadata": {},
   "source": [
    "## TP1\n",
    "### Simulación de tráfico Av. Gral. Paz"
   ]
  },
  {
   "cell_type": "markdown",
   "metadata": {},
   "source": [
    "Puntos en el mapa:\n",
    "- Liniers: inicio del recorrido ([Ver en Google Maps](https://www.google.com.ar/maps/place/34%C2%B039'17.7%22S+58%C2%B031'38.4%22W/@-34.6549785,-58.5277805,17.81z/data=!4m4!3m3!8m2!3d-34.65491!4d-58.527343?entry=ttu))\n",
    "- Acceso norte: cambio máxima de velocidad ([Ver en Google Maps](https://www.google.com.ar/maps/place/34%C2%B032'47.9%22S+58%C2%B029'34.2%22W/@-34.5463826,-58.4928312,20.08z/data=!4m4!3m3!8m2!3d-34.546634!4d-58.492842?entry=ttu))\n",
    "- Lugones: fin del recorrido ([Ver en Google Maps](https://www.google.com.ar/maps/place/34%C2%B032'08.7%22S+58%C2%B028'05.8%22W/@-34.5357379,-58.4689167,19z/data=!3m1!4b1!4m4!3m3!8m2!3d-34.535739!4d-58.468273?entry=ttu))\n",
    "- Distancia total 15.500 metros\n",
    "- Distancia entre Liniers y Acceso Norte 13.000 metros\n",
    "- Viaje en Google Maps [aquí](https://www.google.com.ar/maps/dir/-34.6549026,-58.5273448/RN+A001,+Buenos+Aires/@-34.6442246,-58.5493925,13.21z/data=!4m9!4m8!1m0!1m5!1m1!1s0x95bcb6a69ad1fc61:0x7f1d6a8008451498!2m2!1d-58.4682776!2d-34.5357282!3e0?entry=ttu)"
   ]
  },
  {
   "cell_type": "code",
   "execution_count": 1,
   "metadata": {},
   "outputs": [],
   "source": [
    "from road import *\n",
    "# time_limit=1400, max_acceleration=0.73, braking_desacceleration=1.67, delta=4, minimum_spacing=2, car_length=5\n",
    "simulation = RoadSimulation(2000, 2.0, 4.0, 4, 2, 4.3)"
   ]
  },
  {
   "cell_type": "code",
   "execution_count": 2,
   "metadata": {},
   "outputs": [
    {
     "name": "stdout",
     "output_type": "stream",
     "text": [
      "El primero llego en t=786\n",
      "Cantidad de autos ahi: 301\n",
      "301 1636\n",
      "302 1639\n",
      "303 1641\n",
      "304 1643\n",
      "305 1645\n",
      "306 1647\n",
      "307 1649\n",
      "308 1652\n",
      "309 1653\n",
      "310 1655\n",
      "311 1658\n",
      "312 1661\n",
      "313 1663\n",
      "314 1665\n",
      "315 1669\n",
      "316 1671\n",
      "317 1674\n",
      "318 1675\n",
      "319 1679\n",
      "320 1681\n",
      "321 1684\n",
      "322 1687\n",
      "323 1689\n",
      "324 1692\n",
      "325 1694\n",
      "326 1696\n",
      "327 1699\n",
      "328 1701\n",
      "329 1704\n",
      "330 1706\n",
      "331 1708\n",
      "332 1710\n",
      "333 1713\n",
      "334 1715\n",
      "335 1717\n",
      "336 1718\n",
      "337 1720\n",
      "338 1723\n",
      "339 1726\n",
      "340 1728\n",
      "341 1731\n",
      "342 1733\n",
      "343 1737\n",
      "344 1738\n",
      "345 1741\n",
      "346 1742\n",
      "347 1745\n",
      "348 1747\n",
      "349 1749\n",
      "350 1751\n",
      "351 1753\n",
      "352 1784\n",
      "353 1786\n",
      "354 1790\n",
      "355 1793\n",
      "356 1795\n",
      "357 1798\n",
      "358 1800\n",
      "359 1802\n",
      "360 1806\n",
      "361 1809\n",
      "362 1811\n",
      "363 1814\n",
      "364 1815\n",
      "365 1817\n",
      "366 1820\n",
      "367 1822\n",
      "368 1824\n",
      "369 1827\n",
      "370 1829\n",
      "371 1830\n",
      "372 1832\n",
      "373 1834\n",
      "374 1837\n",
      "375 1839\n",
      "376 1841\n",
      "377 1845\n",
      "378 1848\n",
      "379 1849\n",
      "380 1852\n",
      "381 1855\n",
      "382 1857\n",
      "383 1858\n",
      "384 1860\n",
      "385 1863\n",
      "386 1865\n",
      "387 1867\n",
      "388 1868\n",
      "389 1871\n",
      "390 1873\n",
      "391 1875\n",
      "392 1877\n",
      "393 1880\n",
      "394 1887\n",
      "395 1890\n",
      "396 1892\n",
      "397 1894\n",
      "398 1896\n",
      "399 1899\n",
      "400 1905\n",
      "401 1907\n",
      "402 1910\n",
      "403 1912\n",
      "404 1915\n",
      "405 1917\n",
      "406 1919\n",
      "407 1921\n",
      "408 1924\n",
      "409 1927\n",
      "410 1930\n",
      "411 1932\n",
      "412 1934\n",
      "413 1936\n",
      "414 1939\n",
      "415 1941\n",
      "416 1945\n",
      "417 1947\n",
      "418 1950\n",
      "419 1953\n",
      "420 1955\n",
      "421 1957\n",
      "422 1960\n",
      "423 1962\n",
      "424 1964\n",
      "425 1967\n",
      "426 1969\n",
      "427 1972\n",
      "428 1975\n",
      "429 1979\n",
      "430 1981\n",
      "431 1983\n",
      "432 1985\n",
      "433 1988\n",
      "434 1989\n",
      "435 1991\n",
      "436 1993\n"
     ]
    }
   ],
   "source": [
    "simulation.simulate()"
   ]
  },
  {
   "cell_type": "code",
   "execution_count": 3,
   "metadata": {},
   "outputs": [],
   "source": [
    "acc_sim = simulation.acc\n",
    "spd_sim = simulation.spd\n",
    "pos_sim = simulation.pos"
   ]
  },
  {
   "cell_type": "code",
   "execution_count": 4,
   "metadata": {},
   "outputs": [
    {
     "name": "stdout",
     "output_type": "stream",
     "text": [
      "ID del agente a partir del cuál considerar: 301\n",
      "Segundo desde el cuál se empieza a considerar: 788\n"
     ]
    }
   ],
   "source": [
    "print(f\"ID del agente a partir del cuál considerar: {simulation.id_first_agent_to_consider}\\nSegundo desde el cuál se empieza a considerar: {simulation.time_in[0]}\")"
   ]
  },
  {
   "cell_type": "code",
   "execution_count": 5,
   "metadata": {},
   "outputs": [
    {
     "name": "stdout",
     "output_type": "stream",
     "text": [
      " Tiempo promedio: 849.5441176470588\n",
      " Aceleración promedio: 0.019010599871506686 \n",
      " Velocidad promedio: 18.260228043752868 \n",
      " Cantidad de Choques: 0\n"
     ]
    }
   ],
   "source": [
    "simulation.generete_results()\n",
    "print(f\" Tiempo promedio: {simulation.get_avg_travel_time()}\\n Aceleración promedio: {simulation.get_avg_travel_acce()} \\n Velocidad promedio: {simulation.get_avg_travel_speed()} \\n Cantidad de Choques: {simulation.get_collisions()}\")"
   ]
  },
  {
   "cell_type": "code",
   "execution_count": 6,
   "metadata": {},
   "outputs": [],
   "source": [
    "# recorte = simulation.pos[:,758:6000]"
   ]
  },
  {
   "cell_type": "code",
   "execution_count": 7,
   "metadata": {},
   "outputs": [],
   "source": [
    "# np.save(\"test.npy\", recorte)"
   ]
  }
 ],
 "metadata": {
  "kernelspec": {
   "display_name": "td6",
   "language": "python",
   "name": "python3"
  },
  "language_info": {
   "codemirror_mode": {
    "name": "ipython",
    "version": 3
   },
   "file_extension": ".py",
   "mimetype": "text/x-python",
   "name": "python",
   "nbconvert_exporter": "python",
   "pygments_lexer": "ipython3",
   "version": "3.10.12"
  },
  "orig_nbformat": 4
 },
 "nbformat": 4,
 "nbformat_minor": 2
}
